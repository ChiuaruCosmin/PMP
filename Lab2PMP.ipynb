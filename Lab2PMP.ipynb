{
  "nbformat": 4,
  "nbformat_minor": 0,
  "metadata": {
    "colab": {
      "provenance": []
    },
    "kernelspec": {
      "name": "python3",
      "display_name": "Python 3"
    },
    "language_info": {
      "name": "python"
    }
  },
  "cells": [
    {
      "cell_type": "markdown",
      "source": [
        "# **Laboratorul 2 PMP**"
      ],
      "metadata": {
        "id": "ZL8kyGv2PfXx"
      }
    },
    {
      "cell_type": "markdown",
      "source": [
        "## **Exercitiul 1**"
      ],
      "metadata": {
        "id": "7iMuI6oNMGSZ"
      }
    },
    {
      "cell_type": "code",
      "execution_count": 101,
      "metadata": {
        "colab": {
          "base_uri": "https://localhost:8080/"
        },
        "id": "GkZzE67O_JpW",
        "outputId": "af412a33-1f2a-438b-a6fc-c85d2d17d00e"
      },
      "outputs": [
        {
          "output_type": "stream",
          "name": "stdout",
          "text": [
            "black\n",
            "The probability of drawing a red ball = 0.3154\n"
          ]
        }
      ],
      "source": [
        "import random\n",
        "\n",
        "#a)\n",
        "\n",
        "def simulate_experiment():\n",
        "    urn = {\"red\": 3, \"blue\": 4, \"black\": 2}\n",
        "    d = random.randint(1, 6)\n",
        "\n",
        "    if d in (2, 3, 5):\n",
        "        urn[\"black\"] += 1\n",
        "    elif d == 6:\n",
        "        urn[\"red\"] += 1\n",
        "    else:\n",
        "        urn[\"blue\"] += 1\n",
        "\n",
        "    bag = ([\"red\"] * urn[\"red\"] + [\"blue\"] * urn[\"blue\"] + [\"black\"] * urn[\"black\"])\n",
        "    return random.choice(bag)\n",
        "\n",
        "print(simulate_experiment())\n",
        "\n",
        "#b)\n",
        "\n",
        "def prob_red(n):\n",
        "    red_count = 0\n",
        "    for _ in range(n):\n",
        "        if simulate_experiment() == \"red\":\n",
        "            red_count += 1\n",
        "    return red_count / n\n",
        "\n",
        "p = prob_red(5000)\n",
        "print(f\"The probability of drawing a red ball = {p:.4f}\")\n"
      ]
    },
    {
      "cell_type": "markdown",
      "source": [
        "## **Exercitiul 2**"
      ],
      "metadata": {
        "id": "RuinM1OAPD5i"
      }
    },
    {
      "cell_type": "code",
      "source": [
        "import numpy as np\n",
        "\n",
        "#1)\n",
        "\n",
        "lam_1 = np.random.poisson(1, 1000)\n",
        "lam_2 = np.random.poisson(2, 1000)\n",
        "lam_5 = np.random.poisson(5, 1000)\n",
        "lam_10 = np.random.poisson(10, 1000)\n",
        "\n",
        "print(\"lambda 1:\", lam_1[:10])\n",
        "print(\"lambda 2:\", lam_2[:10])\n",
        "print(\"lambda 5:\", lam_5[:10])\n",
        "print(\"lambda 10:\", lam_10[:10])"
      ],
      "metadata": {
        "colab": {
          "base_uri": "https://localhost:8080/"
        },
        "id": "vxyvJuCCPJtd",
        "outputId": "a2e31e34-7232-4271-affd-85a5dedc38a7"
      },
      "execution_count": 107,
      "outputs": [
        {
          "output_type": "stream",
          "name": "stdout",
          "text": [
            "lambda 1: [0 1 0 3 2 0 0 0 0 1]\n",
            "lambda 2: [2 3 4 4 2 0 1 5 0 1]\n",
            "lambda 5: [2 5 6 6 5 3 4 7 5 4]\n",
            "lambda 10: [ 7  9 15  8  9  9 23 12  6 13]\n"
          ]
        }
      ]
    }
  ]
}
